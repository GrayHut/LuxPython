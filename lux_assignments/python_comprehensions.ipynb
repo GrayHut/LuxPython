{
 "cells": [
  {
   "cell_type": "markdown",
   "id": "4e043510",
   "metadata": {},
   "source": [
    ">Python Comprehensions\n",
    "\n",
    "    - This is a powerful python feature that allows the creation of different data structures from existing ones\n",
    "    - Provides a simpler way of creating new sequences from existing ones by often replacing longer loops with shorter simpler code"
   ]
  },
  {
   "cell_type": "markdown",
   "id": "323c43c2",
   "metadata": {},
   "source": [
    ">Assignment questions"
   ]
  },
  {
   "cell_type": "code",
   "execution_count": null,
   "id": "200fd7ba",
   "metadata": {},
   "outputs": [
    {
     "name": "stdout",
     "output_type": "stream",
     "text": [
      "[78, 88, 90, 62, 99, 70]\n"
     ]
    }
   ],
   "source": [
    "#1.1\n",
    "#Use a list comprehension to filter all the scores above 60 and store them in a new list called passed.\n",
    "\n",
    "scores = [45, 78, 88, 56, 90, 62, 33, 99, 70, 50]\n",
    "\n",
    "passed = [i for i in scores if i >= 60]\n",
    "print(passed)\n"
   ]
  },
  {
   "cell_type": "code",
   "execution_count": null,
   "id": "b5355d3f",
   "metadata": {},
   "outputs": [
    {
     "name": "stdout",
     "output_type": "stream",
     "text": [
      "['Fail', 'Pass', 'Pass', 'Pass', 'Pass', 'Pass', 'Fail', 'Pass', 'Pass', 'Fail']\n"
     ]
    }
   ],
   "source": [
    "#1.2\n",
    "#Use another list comprehension to convert all scores into \"Pass\" or \"Fail\" using a threshold of 50.\n",
    "\n",
    "grade = ['Pass' if i > 50 else 'Fail' for i in scores]\n",
    "print(grade)\n"
   ]
  },
  {
   "cell_type": "code",
   "execution_count": null,
   "id": "006d5122",
   "metadata": {},
   "outputs": [
    {
     "name": "stdout",
     "output_type": "stream",
     "text": [
      "{'Alice': 82, 'Bob': 48, 'Charlie': 79, 'Diana': 65, 'Eve': 91}\n"
     ]
    }
   ],
   "source": [
    "#2.1\n",
    "#Create a dictionary using comprehension that pairs each student with their mark.\n",
    "\n",
    "students = ['Alice', 'Bob', 'Charlie', 'Diana', 'Eve']\n",
    "marks = [82, 48, 79, 65, 91]\n",
    "\n",
    "dict = {k: v for k, v in zip(students, marks)}\n",
    "print(dict)\n"
   ]
  },
  {
   "cell_type": "code",
   "execution_count": null,
   "id": "3496e7b0",
   "metadata": {},
   "outputs": [
    {
     "name": "stdout",
     "output_type": "stream",
     "text": [
      "{'Alice': 82, 'Charlie': 79, 'Eve': 91}\n"
     ]
    }
   ],
   "source": [
    "#2.2\n",
    "#Create a second dictionary that stores only students who scored more than 70.\n",
    "\n",
    "dict_2 = {k: v for k, v in zip(students, marks) if v > 70}\n",
    "print(dict_2)\n"
   ]
  },
  {
   "cell_type": "code",
   "execution_count": null,
   "id": "0b122ee4",
   "metadata": {},
   "outputs": [
    {
     "name": "stdout",
     "output_type": "stream",
     "text": [
      "{'Alice': 'Pass', 'Bob': 'Fail', 'Charlie': 'Pass', 'Diana': 'Pass', 'Eve': 'Pass'}\n"
     ]
    }
   ],
   "source": [
    "#2.3\n",
    "#Create a third dictionary that maps each student to \"Pass\" or \"Fail\" (threshold: 50).\n",
    "\n",
    "dict_3 = {k: 'Pass' if v > 50 else 'Fail' for k, v in zip(students, marks)}\n",
    "print(dict_3)"
   ]
  },
  {
   "cell_type": "code",
   "execution_count": null,
   "id": "cf5b2b92",
   "metadata": {},
   "outputs": [
    {
     "name": "stdout",
     "output_type": "stream",
     "text": [
      "34\n"
     ]
    }
   ],
   "source": [
    "#Bonus challenge\n",
    "#Write a dictionary comprehension that maps each word to its length.\n",
    "\n",
    "sentence = \"Data science is fun and insightful\"\n",
    "\n",
    "print(len(sentence))\n",
    "\n",
    "dict_4 = {}"
   ]
  }
 ],
 "metadata": {
  "kernelspec": {
   "display_name": "jupy_env",
   "language": "python",
   "name": "python3"
  },
  "language_info": {
   "codemirror_mode": {
    "name": "ipython",
    "version": 3
   },
   "file_extension": ".py",
   "mimetype": "text/x-python",
   "name": "python",
   "nbconvert_exporter": "python",
   "pygments_lexer": "ipython3",
   "version": "3.11.4"
  }
 },
 "nbformat": 4,
 "nbformat_minor": 5
}
