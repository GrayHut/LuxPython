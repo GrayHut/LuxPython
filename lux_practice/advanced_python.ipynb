{
 "cells": [
  {
   "cell_type": "markdown",
   "id": "a3d6409e",
   "metadata": {},
   "source": [
    ">Notes"
   ]
  },
  {
   "cell_type": "markdown",
   "id": "c95591ae",
   "metadata": {},
   "source": [
    "Some popular inbuilt methods in the \"os\" module;\n",
    "    - os.remove(path) - deletes file\n",
    "    \n",
    "    - os.rmdir(path) - deletes single EMPTY directory\n",
    "    - os.path.isfile(path) - checks whether the path holds a file\n",
    "    - os.path.isdir(path) - checks if the path holds a directory\n",
    "    - os.path.exists(path) - checks if path exists\n",
    "    - os.getcwd() - returns the Current Working Directory\n",
    "    - os.chdir(path) - changes the working directory\n",
    "    - os.removedirs(path) - deletes nested directories\n",
    "    - os.mkdir(path) - creates a single directory\n",
    "    - os.makedirs(path) - creates multiple nested directories"
   ]
  },
  {
   "cell_type": "markdown",
   "id": "f12b2bd3",
   "metadata": {},
   "source": [
    ">file detection"
   ]
  },
  {
   "cell_type": "code",
   "execution_count": 1,
   "id": "b793ac65",
   "metadata": {},
   "outputs": [
    {
     "name": "stdout",
     "output_type": "stream",
     "text": [
      "Path does not exist\n"
     ]
    }
   ],
   "source": [
    "import os\n",
    "\n",
    "path = \"A:\\\\Books\\\\_OceanofPDF.com_Nearly_All_the_Men_in_Lagos_Are_Mad_-_Damilare_Kuku.pdf\"\n",
    "\n",
    "if os.path.exists(path):\n",
    "    print('This path exsists')\n",
    "    if os.path.isfile(path):\n",
    "        print('Path = file')\n",
    "    elif os.path.isdir(path):\n",
    "        print('Path = Directory')\n",
    "else:\n",
    "    print('Path does not exist')"
   ]
  },
  {
   "cell_type": "markdown",
   "id": "c5fe17b5",
   "metadata": {},
   "source": [
    ">Reading file contents"
   ]
  },
  {
   "cell_type": "code",
   "execution_count": 2,
   "id": "a233edc4",
   "metadata": {},
   "outputs": [
    {
     "name": "stdout",
     "output_type": "stream",
     "text": [
      "OMG!!! I can read this file\n",
      "True\n"
     ]
    }
   ],
   "source": [
    "#the \"open()\" function closes the code execution automatically\n",
    "#the code reads file location with error control\n",
    "\n",
    "try:\n",
    "    with open(\"text.txt\") as f:\n",
    "        print(f.read())\n",
    "    print(f.closed)\n",
    "except FileNotFoundError:\n",
    "    print('The file was NOT found')\n"
   ]
  },
  {
   "cell_type": "markdown",
   "id": "22fb7424",
   "metadata": {},
   "source": [
    ">Writing into a file"
   ]
  },
  {
   "cell_type": "code",
   "execution_count": 3,
   "id": "a715079b",
   "metadata": {},
   "outputs": [],
   "source": [
    "text = \"Enough is enough\\n#occupystatehouse\\n#June25th\"\n",
    "\n",
    "with open(\"test.txt\", 'w') as f:\n",
    "    f.write(text)"
   ]
  },
  {
   "cell_type": "code",
   "execution_count": 4,
   "id": "41f60461",
   "metadata": {},
   "outputs": [
    {
     "name": "stdout",
     "output_type": "stream",
     "text": [
      "Enough is enough\n",
      "#occupystatehouse\n",
      "#June25th\n"
     ]
    }
   ],
   "source": [
    "with open(\"test.txt\") as file:\n",
    "    print(file.read())"
   ]
  },
  {
   "cell_type": "markdown",
   "id": "3a856267",
   "metadata": {},
   "source": [
    ">Deleting a folder"
   ]
  },
  {
   "cell_type": "code",
   "execution_count": 5,
   "id": "570ec788",
   "metadata": {},
   "outputs": [
    {
     "name": "stdout",
     "output_type": "stream",
     "text": [
      "Folder does not exist\n"
     ]
    }
   ],
   "source": [
    "path = \"empty_folder\"\n",
    "\n",
    "try:\n",
    "    #os.remove(path)\n",
    "    os.rmdir(path)\n",
    "    print('file was deleted')\n",
    "except FileNotFoundError:\n",
    "    print('Folder does not exist')"
   ]
  },
  {
   "cell_type": "markdown",
   "id": "455fdc09",
   "metadata": {},
   "source": [
    ">Threading\n",
    "\n",
    "Thread - is a flow of execution. However each thread takes turn running to achieve concurrency.\n",
    "\n",
    "GIL(Global Interpreter Lock) - a feature that allows on thread to take control of the Python intepreter at any one time\n",
    "\n",
    "There are two types of processes;\n",
    "    1. CPU bound - theses are processes that mostly depend on internal events ie cpu intensive process. Such processs are better handed using multiprocessing\n",
    "    2. I/O bound - these are programs/processes that majorly depend on external events (user input, multithreading) and are better handled using multithreading since this this allows the          processes to run concurrently (NOT parallel)\n",
    "\n",
    "N/B: Concept of theading/multithreading allows one thread to run while another is idol allowing efficient cpu usage and faster executions of different programs\n",
    "\n",
    "Deamon threads - these are threads that run in the background. A program does not wait for this thread to finish running before exiting. These threads can be killed before or after a program finishes execution without effect\n",
    "\n",
    "Multiprocessing - involves running processes in different/parallel CPUs."
   ]
  },
  {
   "cell_type": "code",
   "execution_count": 6,
   "id": "8bb04798",
   "metadata": {},
   "outputs": [
    {
     "name": "stdout",
     "output_type": "stream",
     "text": [
      "6\n",
      "[<_MainThread(MainThread, started 14284)>, <Thread(IOPub, started daemon 1912)>, <Heartbeat(Heartbeat, started daemon 8840)>, <ControlThread(Control, started daemon 12048)>, <HistorySavingThread(IPythonHistorySavingThread, started 3612)>, <ParentPollerWindows(Thread-1, started daemon 14680)>]\n"
     ]
    }
   ],
   "source": [
    "import threading as thr\n",
    "\n",
    "#counts the number of threads running in our program currently\n",
    "\n",
    "print(thr.active_count())\n",
    "\n",
    "#shows which threads are running\n",
    "\n",
    "print(thr.enumerate())"
   ]
  },
  {
   "cell_type": "code",
   "execution_count": 7,
   "id": "575b5d5d",
   "metadata": {},
   "outputs": [
    {
     "name": "stdout",
     "output_type": "stream",
     "text": [
      "Am brushing my teeth\n",
      "#TodayisToday\n",
      "I am waking up\n"
     ]
    }
   ],
   "source": [
    "#demostrating multithreading\n",
    "\n",
    "##example-1 - sequential execution\n",
    "import time as t\n",
    "\n",
    "def wake_up():\n",
    "    t.sleep(3)\n",
    "    print('I am waking up')\n",
    "\n",
    "def brush_teeth():\n",
    "    t.sleep(6)\n",
    "    print('Am brushing my teeth')\n",
    "\n",
    "def cbd_demos():\n",
    "    t.sleep(8)\n",
    "    print('#TodayisToday')\n",
    "\n",
    "brush_teeth()\n",
    "cbd_demos()\n",
    "wake_up()\n",
    "\n",
    "# print(thr.active_count())\n",
    "# print(thr.enumerate())\n",
    "\n"
   ]
  },
  {
   "cell_type": "code",
   "execution_count": 8,
   "id": "2705a517",
   "metadata": {},
   "outputs": [
    {
     "name": "stdout",
     "output_type": "stream",
     "text": [
      "I am waking up\n",
      "Am brushing my teeth\n",
      "#TodayisToday\n"
     ]
    }
   ],
   "source": [
    "##example-2 - concurrent execution(mutithreading in action)\n",
    "\n",
    "y = thr.Thread(target=brush_teeth, args=())\n",
    "y.start()\n",
    "\n",
    "z = thr.Thread(target=cbd_demos, args=())\n",
    "z.start()\n",
    "\n",
    "x = thr.Thread(target=wake_up, args=())\n",
    "x.start()\n",
    "\n"
   ]
  },
  {
   "cell_type": "markdown",
   "id": "ffd82903",
   "metadata": {},
   "source": [
    ">Python Classes"
   ]
  },
  {
   "cell_type": "code",
   "execution_count": 9,
   "id": "0f065a99",
   "metadata": {},
   "outputs": [
    {
     "name": "stdout",
     "output_type": "stream",
     "text": [
      "This is a method\n"
     ]
    }
   ],
   "source": [
    "#first class & method\n",
    "class class_name:\n",
    "    def method_name(self):\n",
    "        print('This is a method')\n",
    "\n",
    "class_ref = class_name()\n",
    "class_ref.method_name()"
   ]
  },
  {
   "cell_type": "code",
   "execution_count": 12,
   "id": "5a9a6d11",
   "metadata": {},
   "outputs": [
    {
     "name": "stdout",
     "output_type": "stream",
     "text": [
      "You are underage\n"
     ]
    }
   ],
   "source": [
    "\n",
    "age = int(input('Enter your age: '))\n",
    "\n",
    "class MyIdentity:\n",
    "    def identity(self, age):\n",
    "        if age < 18:\n",
    "            print('You are underage')\n",
    "        elif age >= 18:\n",
    "            print('Your are of age')\n",
    "\n",
    "\n",
    "MyIdentity().identity(age)\n"
   ]
  },
  {
   "cell_type": "markdown",
   "id": "f64aff5d",
   "metadata": {},
   "source": [
    ">Higher order functions"
   ]
  },
  {
   "cell_type": "code",
   "execution_count": 13,
   "id": "599e5baa",
   "metadata": {},
   "outputs": [
    {
     "name": "stdout",
     "output_type": "stream",
     "text": [
      "100\n"
     ]
    }
   ],
   "source": [
    "def fun(f, x):\n",
    "    return f(x)\n",
    "\n",
    "def square(x):\n",
    "    return x*x\n",
    "\n",
    "output = fun(square, 10)\n",
    "print(output)"
   ]
  },
  {
   "cell_type": "markdown",
   "id": "74a60a28",
   "metadata": {},
   "source": [
    ">Decorators"
   ]
  },
  {
   "cell_type": "code",
   "execution_count": null,
   "id": "2b5b1fb5",
   "metadata": {},
   "outputs": [],
   "source": []
  }
 ],
 "metadata": {
  "kernelspec": {
   "display_name": "jupy_env",
   "language": "python",
   "name": "python3"
  },
  "language_info": {
   "codemirror_mode": {
    "name": "ipython",
    "version": 3
   },
   "file_extension": ".py",
   "mimetype": "text/x-python",
   "name": "python",
   "nbconvert_exporter": "python",
   "pygments_lexer": "ipython3",
   "version": "3.11.4"
  }
 },
 "nbformat": 4,
 "nbformat_minor": 5
}
